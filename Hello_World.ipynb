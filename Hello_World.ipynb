{
 "cells": [
  {
   "cell_type": "code",
   "execution_count": 32,
   "id": "06d26292-e97b-4507-927f-a578f33faca6",
   "metadata": {},
   "outputs": [
    {
     "data": {
      "text/html": [
       "<a href=\"http://127.0.0.1:8080//#/experiments/details/bad68190-d1b2-45ce-90d5-2fb633aac8d8\" target=\"_blank\" >Experiment details</a>."
      ],
      "text/plain": [
       "<IPython.core.display.HTML object>"
      ]
     },
     "metadata": {},
     "output_type": "display_data"
    },
    {
     "data": {
      "text/html": [
       "<a href=\"http://127.0.0.1:8080//#/runs/details/edcd7545-367d-4762-9639-c2508f162eee\" target=\"_blank\" >Run details</a>."
      ],
      "text/plain": [
       "<IPython.core.display.HTML object>"
      ]
     },
     "metadata": {},
     "output_type": "display_data"
    },
    {
     "name": "stdout",
     "output_type": "stream",
     "text": [
      "Run details: RunPipelineResult(run_id=edcd7545-367d-4762-9639-c2508f162eee)\n"
     ]
    }
   ],
   "source": [
    "import kfp\n",
    "from kfp import dsl\n",
    "\n",
    "@dsl.component\n",
    "def say_hello(name: str) -> str:\n",
    "    hello_text = f'Hello, {name}!'\n",
    "    print(hello_text)\n",
    "    return hello_text\n",
    "\n",
    "@dsl.pipeline\n",
    "def hello_pipeline(recipient: str) -> str:\n",
    "    hello_task = say_hello(name=recipient)\n",
    "    return hello_task.output\n",
    "\n",
    "# Compile the pipeline\n",
    "pipeline_func = hello_pipeline\n",
    "pipeline_package_path = 'hello_pipeline.yaml'\n",
    "compiler.Compiler().compile(pipeline_func, package_path=pipeline_package_path)\n",
    "\n",
    "# Create a client to interact with the Kubeflow Pipelines endpoint\n",
    "client = kfp.Client(\"http://127.0.0.1:8080/\")\n",
    "\n",
    "# Define experiment name and run name\n",
    "experiment_name = 'hello_pipeline_experiment'\n",
    "run_name = 'hello_pipeline_run'\n",
    "\n",
    "# Define the recipient value\n",
    "recipient_value = 'John'  # Provide the recipient value here\n",
    "\n",
    "# Submit the pipeline run\n",
    "run_result = client.create_run_from_pipeline_package(\n",
    "    pipeline_file=pipeline_package_path,\n",
    "    arguments={'recipient': recipient_value},\n",
    "    experiment_name=experiment_name,\n",
    "    run_name=run_name\n",
    ")\n",
    "\n",
    "# Print the run details\n",
    "print(\"Run details:\", run_result)\n"
   ]
  },
  {
   "cell_type": "code",
   "execution_count": null,
   "id": "8dbd1991-0860-4875-87ba-a548edbf61ae",
   "metadata": {},
   "outputs": [],
   "source": []
  }
 ],
 "metadata": {
  "kernelspec": {
   "display_name": "Python 3 (ipykernel)",
   "language": "python",
   "name": "python3"
  },
  "language_info": {
   "codemirror_mode": {
    "name": "ipython",
    "version": 3
   },
   "file_extension": ".py",
   "mimetype": "text/x-python",
   "name": "python",
   "nbconvert_exporter": "python",
   "pygments_lexer": "ipython3",
   "version": "3.11.7"
  }
 },
 "nbformat": 4,
 "nbformat_minor": 5
}
